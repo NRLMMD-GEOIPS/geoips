{
 "cells": [
  {
   "cell_type": "code",
   "execution_count": 1,
   "id": "4a9041a8-06d8-429f-b3a0-f396b6bdc444",
   "metadata": {},
   "outputs": [
    {
     "name": "stdout",
     "output_type": "stream",
     "text": [
      "env: GEOIPS_PACKAGES_DIR=/app/geoips_packages/geoips\n",
      "env: GEOIPS_REPO_URL=https://github.com/NRLMMD-GEOIPS/geoips\n"
     ]
    }
   ],
   "source": [
    "%env GEOIPS_PACKAGES_DIR=/app/geoips_packages/geoips\n",
    "%env GEOIPS_REPO_URL=https://github.com/NRLMMD-GEOIPS/geoips"
   ]
  },
  {
   "cell_type": "code",
   "execution_count": 2,
   "id": "c95b9026-f73e-4b26-9e5e-4256ff8a816e",
   "metadata": {},
   "outputs": [
    {
     "name": "stdout",
     "output_type": "stream",
     "text": [
      "env: MY_PKG_NAME=cool_plugins\n",
      "env: MY_PKG_DIR=$GEOIPS_PACKAGES_DIR/$MY_PKG_NAME\n"
     ]
    }
   ],
   "source": [
    "%env MY_PKG_NAME=cool_plugins\n",
    "%env MY_PKG_DIR=$GEOIPS_PACKAGES_DIR/$MY_PKG_NAME"
   ]
  },
  {
   "cell_type": "code",
   "execution_count": 5,
   "id": "c8ed66ec-6fa3-492e-a712-e7e54fec0ae2",
   "metadata": {},
   "outputs": [
    {
     "name": "stdout",
     "output_type": "stream",
     "text": [
      "Cloning into '/app/geoips_packages/geoips/cool_plugins'...\n",
      "remote: Enumerating objects: 8777, done.\u001b[K\n",
      "remote: Counting objects: 100% (8777/8777), done.\u001b[K\n",
      "remote: Compressing objects: 100% (2521/2521), done.\u001b[K\n",
      "remote: Total 8777 (delta 6471), reused 8105 (delta 6112), pack-reused 0\u001b[K\n",
      "Receiving objects: 100% (8777/8777), 137.25 MiB | 22.13 MiB/s, done.\n",
      "Resolving deltas: 100% (6471/6471), done.\n"
     ]
    }
   ],
   "source": [
    "! rm -rf $GEOIPS_PACKAGES_DIR/$MY_PKG_NAME\n",
    "! git clone --no-tags --single-branch https://github.com/NRLMMD-GEOIPS/template_basic_plugin.git $GEOIPS_PACKAGES_DIR/$MY_PKG_NAME"
   ]
  },
  {
   "cell_type": "code",
   "execution_count": 13,
   "id": "25fd9df6-6a05-4cb9-a6ec-8273e892f1e7",
   "metadata": {},
   "outputs": [
    {
     "name": "stdout",
     "output_type": "stream",
     "text": [
      "/app/geoips_packages/geoips/cool_plugins\n"
     ]
    }
   ],
   "source": [
    "%cd /app/geoips_packages/geoips/cool_plugins"
   ]
  },
  {
   "cell_type": "code",
   "execution_count": 15,
   "id": "a6d86dcf-6eec-43bb-8782-761815ecba01",
   "metadata": {},
   "outputs": [
    {
     "name": "stdout",
     "output_type": "stream",
     "text": [
      "/app/geoips_packages/geoips/cool_plugins\n",
      "CHANGELOG.rst\t\t    Dockerfile\tinterface_notes.md\n",
      "CHANGELOG_TEMPLATE.rst\t    LICENSE\tpyproject.toml\n",
      "CODE_OF_CONDUCT.md\t    README.md\tsetup\n",
      "COMMIT_MESSAGE_TEMPLATE.md  docs\ttests\n",
      "DISTRIBUTION\t\t    geoips\tupdate_this_release_note\n"
     ]
    }
   ],
   "source": [
    "! pwd && ls"
   ]
  },
  {
   "cell_type": "code",
   "execution_count": 7,
   "id": "6b9ecd02-d7b7-4b85-a12b-7778744a74c1",
   "metadata": {},
   "outputs": [],
   "source": [
    "! git remote remove origin"
   ]
  },
  {
   "cell_type": "code",
   "execution_count": 12,
   "id": "c85bb766-37f1-45eb-8806-8b64fae0b4b4",
   "metadata": {},
   "outputs": [
    {
     "name": "stdout",
     "output_type": "stream",
     "text": [
      "CHANGELOG.rst\t\t    Dockerfile\tinterface_notes.md\n",
      "CHANGELOG_TEMPLATE.rst\t    LICENSE\tpyproject.toml\n",
      "CODE_OF_CONDUCT.md\t    README.md\tsetup\n",
      "COMMIT_MESSAGE_TEMPLATE.md  docs\ttests\n",
      "DISTRIBUTION\t\t    geoips\tupdate_this_release_note\n"
     ]
    }
   ],
   "source": [
    "! ls"
   ]
  },
  {
   "cell_type": "code",
   "execution_count": 9,
   "id": "c024089a-8c46-4982-9615-6c85899ea709",
   "metadata": {},
   "outputs": [
    {
     "name": "stdout",
     "output_type": "stream",
     "text": [
      "fatal: bad source, source=my_package, destination=cool_plugins\n"
     ]
    }
   ],
   "source": [
    "! git mv my_package $MY_PKG_NAME"
   ]
  },
  {
   "cell_type": "code",
   "execution_count": 10,
   "id": "05426531-f55a-48d2-8bb0-d2758d891ca9",
   "metadata": {},
   "outputs": [
    {
     "name": "stdout",
     "output_type": "stream",
     "text": [
      "    # # # Distribution Statement A. Approved for public release. Distribution unlimited.\n",
      "    # # #\n",
      "    # # # Author:\n",
      "    # # # Naval Research Laboratory, Marine Meteorology Division\n",
      "    # # #\n",
      "    # # # This program is free software: you can redistribute it and/or modify it under\n",
      "    # # # the terms of the NRLMMD License included with this program. This program is\n",
      "    # # # distributed WITHOUT ANY WARRANTY; without even the implied warranty of\n",
      "    # # # MERCHANTABILITY or FITNESS FOR A PARTICULAR PURPOSE. See the included license\n",
      "    # # # for more details. If you did not receive the license, for more information see:\n",
      "    # # # https://github.com/U-S-NRL-Marine-Meteorology-Division/\n",
      "\n",
      "GeoIPS Base Package\n",
      "====================\n",
      "\n",
      "The GeoIPS Base Package provides a Python 3 based architecture supporting a wide variety of\n",
      "satellite and weather data processing. The modular nature of the GeoIPS base infrastructure also allows\n",
      "plug-and-play capability for user-specified custom functionality.\n",
      "\n",
      "Installation\n",
      "------------\n",
      "See the\n",
      "installation guide ([linux](./docs/source/starter/installation.rst),\n",
      "[mac](./docs/source/starter/mac_installation.rst),\n",
      "[windows](./docs/source/starter/windows_installation.rst))\n",
      "within the source code documentation for installation instructions. GeoIPS has a fully supported\n",
      "exhaustive installation process, including a full conda environment, as well as a more basic\n",
      "pip based installation for \"expert\" users.\n",
      "\n",
      "Creating your own GeoIPS Plugin\n",
      "-------------------------------\n",
      "\n",
      "See the instructions to\n",
      "[setup a new plugin](./docs/source/devguide/dev_setup.rst)\n",
      "if you are interested in creating your own functionality using the GeoIPS\n",
      "infrastructure.\n",
      "\n",
      "Contributing\n",
      "-------------\n",
      "Are you interested in\n",
      "1. Notifying the geoips team of bugs?\n",
      "2. Submitting a fix to a known bug?\n",
      "3. Contributing new functionality to the main geoips code base?\n",
      "4. Creating your own geoips-compatible plugin?\n",
      "\n",
      "We welcome all feedback and contributions!\n",
      "\n",
      "Please review our\n",
      "[contributors guide](./docs/source/devguide/contributors.rst)\n",
      "for more information.\n",
      "\n",
      "Contact\n",
      "----------\n",
      "Please contact geoips@nrlmry.navy.mil with any questions comments or concerns, and\n",
      "for additional information about our regular user/developer meetings, Slack channel,\n",
      "and other forms of communication.\n",
      "\n",
      "Slack Channel\n",
      "----------\n",
      "For those interested in contributing to GeoIPS, have informal feature requests, or\n",
      "have lingering questions not answered by the documentation, feel free to join our\n",
      "[Slack Channel](https://geoips.slack.com/). If you are not permitted to join, email\n",
      "geoips@nrlmry.navy.mil to request access.\n",
      "\n",
      "Acknowledgments and Citations\n",
      "------------------------------\n",
      "Please display the following acknowledgment within all published research using this software:\n",
      "\n",
      "    \"This work uses the GeoIPS(R) software package written and\n",
      "    developed by the Naval Research Laboratory Marine Meteorology Division.\n",
      "    https://github.com/NRLMMD-GEOIPS/\"\n",
      "\n",
      "See [GeoIPS LICENSE](https://github.com/NRLMMD-GEOIPS/geoips/blob/main/LICENSE) for\n",
      "more information.\n",
      "\n",
      "* https://github.com/NRLMMD-GEOIPS/geoips/blob/main/LICENSE\n",
      "\n",
      "Documentation\n",
      "------------------------------\n",
      "The documentation can be found at:\n",
      "\n",
      "https://nrlmmd-geoips.github.io/geoips/ \n"
     ]
    }
   ],
   "source": [
    "! cat README.md"
   ]
  },
  {
   "cell_type": "code",
   "execution_count": null,
   "id": "4eaad93e-14dc-4966-b46c-f683669a6335",
   "metadata": {},
   "outputs": [],
   "source": []
  }
 ],
 "metadata": {
  "kernelspec": {
   "display_name": "Python 3 (ipykernel)",
   "language": "python",
   "name": "python3"
  },
  "language_info": {
   "codemirror_mode": {
    "name": "ipython",
    "version": 3
   },
   "file_extension": ".py",
   "mimetype": "text/x-python",
   "name": "python",
   "nbconvert_exporter": "python",
   "pygments_lexer": "ipython3",
   "version": "3.10.14"
  }
 },
 "nbformat": 4,
 "nbformat_minor": 5
}
